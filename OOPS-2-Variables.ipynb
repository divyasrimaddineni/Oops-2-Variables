{
 "cells": [
  {
   "cell_type": "markdown",
   "metadata": {},
   "source": [
    "# Variables:"
   ]
  },
  {
   "cell_type": "code",
   "execution_count": null,
   "metadata": {},
   "outputs": [],
   "source": [
    "which is used to hold the data temporarily are Variables."
   ]
  },
  {
   "cell_type": "markdown",
   "metadata": {},
   "source": [
    "# Types of variables:"
   ]
  },
  {
   "cell_type": "code",
   "execution_count": null,
   "metadata": {},
   "outputs": [],
   "source": [
    "1)Instance variables(Object level variables)\n",
    "2)Static variables(Class level variables)\n",
    "3)Local variables(Method level variables) "
   ]
  },
  {
   "cell_type": "markdown",
   "metadata": {},
   "source": [
    "## 1)Instance/Object level variables:"
   ]
  },
  {
   "cell_type": "code",
   "execution_count": null,
   "metadata": {},
   "outputs": [],
   "source": [
    "The variable value varies from object to object, then it is called as Instance/Object level variables\n",
    "*For each and every object there will be a seperate copy of instance variables created.\n",
    "\n",
    "Instance variables are created at the time of object creation and will be destroyed when it goes for Garbage collection.\n",
    "\n",
    "we can declare in 3 different ways:\n",
    "a. Inside constructor by using Self variable \n",
    "b. Inside instance method by using self variable\n",
    "c. Outside of the class by using object reference variable\n",
    "\n",
    "We can also delete instance variables:-\n",
    "Within the class ( del self.variablename )\n",
    "Outside the class ( del objectname.variablename )\n",
    "\n"
   ]
  },
  {
   "cell_type": "markdown",
   "metadata": {},
   "source": [
    "##  __dict__"
   ]
  },
  {
   "cell_type": "code",
   "execution_count": null,
   "metadata": {},
   "outputs": [],
   "source": [
    "We use __dict__ to know the instance variables and their corresponding values of an object. \n",
    "__dict__  returns values in a dictionary format.\n"
   ]
  },
  {
   "cell_type": "code",
   "execution_count": 40,
   "metadata": {},
   "outputs": [
    {
     "name": "stdout",
     "output_type": "stream",
     "text": [
      "{'name': 'divya', 'age': 21, 'marks': 100}\n"
     ]
    }
   ],
   "source": [
    "class student:\n",
    "    '''This is the class of student details'''\n",
    "    def __init__(self): #__init__ method calls itself\n",
    "        self.name=\"divya\" #instance variable\n",
    "        self.age=21\n",
    "        self.marks=100\n",
    "    def details(self):\n",
    "        print(\"Hii iam:\",self.name)\n",
    "        print(\"my age is:\",self.age)\n",
    "        print(\"my marks are:\",self.marks)\n",
    "        \n",
    "x=student()\n",
    "print(x.__dict__)"
   ]
  },
  {
   "cell_type": "markdown",
   "metadata": {},
   "source": [
    "### a. Inside constructor by using Self variable"
   ]
  },
  {
   "cell_type": "code",
   "execution_count": 29,
   "metadata": {},
   "outputs": [
    {
     "name": "stdout",
     "output_type": "stream",
     "text": [
      "{'eno': 100, 'ename': 'divya'}\n"
     ]
    }
   ],
   "source": [
    "class Employee:\n",
    "    def __init__(self):\n",
    "        self.eno=100 #instance variable\n",
    "        self.ename=\"divya\" #instance variable\n",
    "        \n",
    "e=Employee() # object reference variable\n",
    "print(e.__dict__)"
   ]
  },
  {
   "cell_type": "code",
   "execution_count": 26,
   "metadata": {},
   "outputs": [
    {
     "name": "stdout",
     "output_type": "stream",
     "text": [
      "<__main__.Employee object at 0x00000202A2189948>\n"
     ]
    }
   ],
   "source": [
    "class Employee:\n",
    "    def __init__(self):\n",
    "        self.eno=100 #instance variable\n",
    "        self.ename=\"divya\" #instance variable\n",
    "        \n",
    "e=Employee() # object reference variable\n",
    "print(e)"
   ]
  },
  {
   "cell_type": "markdown",
   "metadata": {},
   "source": [
    "### b. Inside instance method by using self variable"
   ]
  },
  {
   "cell_type": "code",
   "execution_count": 31,
   "metadata": {},
   "outputs": [
    {
     "name": "stdout",
     "output_type": "stream",
     "text": [
      "{'a': 10, 'b': 20, 'c': 30}\n"
     ]
    }
   ],
   "source": [
    "class Test:\n",
    "    def __init__(self):\n",
    "        self.a=10\n",
    "        self.b=20\n",
    "    def m(self): # m is instance method   \n",
    "        self.c=30 # instance variable inside instance method\n",
    "        \n",
    "t=Test()\n",
    "t.m()\n",
    "print(t.__dict__)\n"
   ]
  },
  {
   "cell_type": "code",
   "execution_count": 32,
   "metadata": {},
   "outputs": [],
   "source": [
    "class Test:\n",
    "    def __init__(self):\n",
    "        self.a=10\n",
    "        self.b=20\n",
    "    def m(self): # m is instance method   \n",
    "        self.c=30 # instance variable inside instance method\n",
    "        \n",
    "t=Test()\n",
    "t.m()"
   ]
  },
  {
   "cell_type": "code",
   "execution_count": 5,
   "metadata": {},
   "outputs": [
    {
     "name": "stdout",
     "output_type": "stream",
     "text": [
      "{'a': 10, 'b': 20}\n",
      "{'a': 10, 'b': 20, 'c': 30}\n"
     ]
    }
   ],
   "source": [
    "class Test:\n",
    "    def __init__(self):\n",
    "        self.a=10\n",
    "        self.b=20\n",
    "    def m(self): # m is instance method   \n",
    "        self.c=30 # instance method inside instance method\n",
    "        \n",
    "t=Test()\n",
    "t1=Test() # t1 is another object\n",
    "t.m()\n",
    "print(t1.__dict__)\n",
    "print(t.__dict__)"
   ]
  },
  {
   "cell_type": "code",
   "execution_count": 6,
   "metadata": {},
   "outputs": [
    {
     "name": "stdout",
     "output_type": "stream",
     "text": [
      "{'a': 10, 'b': 20, 'c': 30}\n",
      "{'a': 10, 'b': 20, 'c': 30}\n"
     ]
    }
   ],
   "source": [
    "class Test:\n",
    "    def __init__(self):\n",
    "        self.a=10\n",
    "        self.b=20\n",
    "    def m(self): # m is instance method   \n",
    "        self.c=30 # instance method inside instance method\n",
    "        \n",
    "t=Test()\n",
    "t1=Test() # t1 is another object\n",
    "t.m()\n",
    "t1.m()\n",
    "print(t1.__dict__)\n",
    "print(t.__dict__)"
   ]
  },
  {
   "cell_type": "markdown",
   "metadata": {},
   "source": [
    "### c. Outside of the class by using object reference variable"
   ]
  },
  {
   "cell_type": "code",
   "execution_count": 7,
   "metadata": {},
   "outputs": [
    {
     "name": "stdout",
     "output_type": "stream",
     "text": [
      "{'a': 10, 'b': 20, 'c': 30, 'd': 40}\n"
     ]
    }
   ],
   "source": [
    "class Test:\n",
    "    def __init__(self):\n",
    "        self.a=10\n",
    "        self.b=20\n",
    "    def m(self):\n",
    "        self.c=30\n",
    "        \n",
    "t=Test()\n",
    "t.m()\n",
    "t.d=40 # Outside of the class by using object refernce variable\n",
    "print(t.__dict__)"
   ]
  },
  {
   "cell_type": "markdown",
   "metadata": {},
   "source": [
    "### Accessing of Instance Variables(Printing)"
   ]
  },
  {
   "cell_type": "code",
   "execution_count": null,
   "metadata": {},
   "outputs": [],
   "source": [
    "We can access instance variables:-\n",
    "    within the class by using self variable \n",
    "    outside the class by using object reference variable."
   ]
  },
  {
   "cell_type": "code",
   "execution_count": 10,
   "metadata": {},
   "outputs": [
    {
     "name": "stdout",
     "output_type": "stream",
     "text": [
      "10\n",
      "20\n"
     ]
    }
   ],
   "source": [
    "#accessing of instance variables from inside of the class & inside instance method\n",
    "class Test:\n",
    "    def __init__(self):\n",
    "        self.a=10\n",
    "        self.b=20\n",
    "    def m(self):\n",
    "        self.c=30\n",
    "        print(self.a)\n",
    "        print(self.b)\n",
    "        \n",
    "t=Test()\n",
    "t.m()\n",
    "\n"
   ]
  },
  {
   "cell_type": "code",
   "execution_count": 16,
   "metadata": {},
   "outputs": [
    {
     "name": "stdout",
     "output_type": "stream",
     "text": [
      "10 20\n"
     ]
    }
   ],
   "source": [
    "#accessing of instance variables from outside of the class\n",
    "class Test:\n",
    "    def __init__(self):\n",
    "        self.a=10\n",
    "        self.b=20\n",
    "    def m(self):\n",
    "        self.c=30\n",
    "        #print(self.a)\n",
    "        #print(self.b)\n",
    "        \n",
    "t=Test()\n",
    "t.m()\n",
    "print(t.a,t.b)"
   ]
  },
  {
   "cell_type": "code",
   "execution_count": 18,
   "metadata": {},
   "outputs": [
    {
     "name": "stdout",
     "output_type": "stream",
     "text": [
      "10 20\n"
     ]
    }
   ],
   "source": [
    "class Test:\n",
    "    def __init__(self):\n",
    "        self.a=10\n",
    "        self.b=20\n",
    "    def m(self):\n",
    "        self.c=30\n",
    "        #print(self.a)\n",
    "        #print(self.b)\n",
    "        \n",
    "t=Test()\n",
    "print(t.a,t.b)\n",
    "t.m()\n"
   ]
  },
  {
   "cell_type": "code",
   "execution_count": 17,
   "metadata": {},
   "outputs": [
    {
     "name": "stdout",
     "output_type": "stream",
     "text": [
      "10 20 30\n"
     ]
    }
   ],
   "source": [
    "#accessing of instance variables from outside of the class\n",
    "class Test:\n",
    "    def __init__(self):\n",
    "        self.a=10\n",
    "        self.b=20\n",
    "    def m(self):\n",
    "        self.c=30\n",
    "        #print(self.a)\n",
    "        #print(self.b)\n",
    "        \n",
    "t=Test()\n",
    "t.m()\n",
    "print(t.a,t.b,t.c)"
   ]
  }
 ],
 "metadata": {
  "kernelspec": {
   "display_name": "Python 3",
   "language": "python",
   "name": "python3"
  },
  "language_info": {
   "codemirror_mode": {
    "name": "ipython",
    "version": 3
   },
   "file_extension": ".py",
   "mimetype": "text/x-python",
   "name": "python",
   "nbconvert_exporter": "python",
   "pygments_lexer": "ipython3",
   "version": "3.7.4"
  }
 },
 "nbformat": 4,
 "nbformat_minor": 2
}
